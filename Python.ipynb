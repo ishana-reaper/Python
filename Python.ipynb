{
  "nbformat": 4,
  "nbformat_minor": 0,
  "metadata": {
    "colab": {
      "name": "Python.ipynb",
      "provenance": [],
      "collapsed_sections": [],
      "authorship_tag": "ABX9TyMXxIwh8ZDlTZP4iHlxn5n0",
      "include_colab_link": true
    },
    "kernelspec": {
      "name": "python3",
      "display_name": "Python 3"
    }
  },
  "cells": [
    {
      "cell_type": "markdown",
      "metadata": {
        "id": "view-in-github",
        "colab_type": "text"
      },
      "source": [
        "<a href=\"https://colab.research.google.com/github/ishana-reaper/Python/blob/master/Python.ipynb\" target=\"_parent\"><img src=\"https://colab.research.google.com/assets/colab-badge.svg\" alt=\"Open In Colab\"/></a>"
      ]
    },
    {
      "cell_type": "code",
      "metadata": {
        "id": "-FnplAe83Pu0",
        "colab_type": "code",
        "colab": {
          "base_uri": "https://localhost:8080/",
          "height": 34
        },
        "outputId": "673d28d7-90ec-4027-9976-ba2e43e3499d"
      },
      "source": [
        "print(\"Hello data type\")"
      ],
      "execution_count": null,
      "outputs": [
        {
          "output_type": "stream",
          "text": [
            "Hello data type\n"
          ],
          "name": "stdout"
        }
      ]
    },
    {
      "cell_type": "markdown",
      "metadata": {
        "id": "aP5yncztCgJX",
        "colab_type": "text"
      },
      "source": [
        " **List data type**\n",
        "  1.Append\n",
        "  2.clear\n",
        "  3.Copy\n",
        "  4.Count\n",
        "  5.Extend\n",
        "  6.Index\n",
        "  7.Insert\n",
        "  8.Pop\n",
        "  9.Remove\n",
        "  10.Reverse\n",
        "  11.Sort"
      ]
    },
    {
      "cell_type": "code",
      "metadata": {
        "id": "wgGoYUf339Ix",
        "colab_type": "code",
        "colab": {}
      },
      "source": [
        "lst =[ \"Pujitha\",\"python\",123,12.78,[2,4,6] ]"
      ],
      "execution_count": null,
      "outputs": []
    },
    {
      "cell_type": "code",
      "metadata": {
        "id": "07RERVFr_HA2",
        "colab_type": "code",
        "colab": {}
      },
      "source": [
        ""
      ],
      "execution_count": null,
      "outputs": []
    },
    {
      "cell_type": "markdown",
      "metadata": {
        "id": "AUk0fmsC3s0a",
        "colab_type": "text"
      },
      "source": [
        ""
      ]
    },
    {
      "cell_type": "code",
      "metadata": {
        "id": "veWWg_634vis",
        "colab_type": "code",
        "colab": {}
      },
      "source": [
        "# 1.Append\n",
        "lst.append(\"letupgrade\")"
      ],
      "execution_count": null,
      "outputs": []
    },
    {
      "cell_type": "code",
      "metadata": {
        "id": "4yKoNboW6Sr7",
        "colab_type": "code",
        "colab": {}
      },
      "source": [
        "a=[1,2,3,4,5]"
      ],
      "execution_count": null,
      "outputs": []
    },
    {
      "cell_type": "code",
      "metadata": {
        "id": "tYibcbWz6bms",
        "colab_type": "code",
        "colab": {}
      },
      "source": [
        "# 2.Copy\n",
        "a.clear()"
      ],
      "execution_count": null,
      "outputs": []
    },
    {
      "cell_type": "code",
      "metadata": {
        "id": "7f_J4yg56fgk",
        "colab_type": "code",
        "colab": {
          "base_uri": "https://localhost:8080/",
          "height": 34
        },
        "outputId": "f8b5da89-7e4e-4b78-9d8e-059a319bed60"
      },
      "source": [
        "print(a)"
      ],
      "execution_count": null,
      "outputs": [
        {
          "output_type": "stream",
          "text": [
            "[]\n"
          ],
          "name": "stdout"
        }
      ]
    },
    {
      "cell_type": "code",
      "metadata": {
        "id": "A9tPzJjE6rWB",
        "colab_type": "code",
        "colab": {}
      },
      "source": [
        "# 3.Copy\n",
        "c=[6,7,8,9]\n",
        "b=c.copy()"
      ],
      "execution_count": null,
      "outputs": []
    },
    {
      "cell_type": "code",
      "metadata": {
        "id": "2Lyz8aOi7G7u",
        "colab_type": "code",
        "colab": {
          "base_uri": "https://localhost:8080/",
          "height": 51
        },
        "outputId": "6accfc31-320a-4d35-87ad-74957cf6142a"
      },
      "source": [
        "print(c)\n",
        "print(b)"
      ],
      "execution_count": null,
      "outputs": [
        {
          "output_type": "stream",
          "text": [
            "[6, 7, 8, 9]\n",
            "[6, 7, 8, 9]\n"
          ],
          "name": "stdout"
        }
      ]
    },
    {
      "cell_type": "code",
      "metadata": {
        "id": "oFykybA48DNw",
        "colab_type": "code",
        "colab": {}
      },
      "source": [
        "# 4.Count\n",
        "d=[4,5,6,6,5,4]\n",
        "e=[7,8,9,9,8,7]"
      ],
      "execution_count": null,
      "outputs": []
    },
    {
      "cell_type": "code",
      "metadata": {
        "id": "7Cq4P2Y08u84",
        "colab_type": "code",
        "colab": {
          "base_uri": "https://localhost:8080/",
          "height": 51
        },
        "outputId": "d6e417b9-baf4-49b0-ed46-b1eb1ffaa3cb"
      },
      "source": [
        "print (d.count(6))\n",
        "print (e.count(9))"
      ],
      "execution_count": null,
      "outputs": [
        {
          "output_type": "stream",
          "text": [
            "2\n",
            "2\n"
          ],
          "name": "stdout"
        }
      ]
    },
    {
      "cell_type": "code",
      "metadata": {
        "id": "NRPLO2cr9PJM",
        "colab_type": "code",
        "colab": {
          "base_uri": "https://localhost:8080/",
          "height": 34
        },
        "outputId": "9013f391-9631-4468-ce04-c46fbb1e8471"
      },
      "source": [
        "# 5.Extend\n",
        "d.extend([1,2,3])\n",
        "print(d)"
      ],
      "execution_count": null,
      "outputs": [
        {
          "output_type": "stream",
          "text": [
            "[4, 5, 6, 6, 5, 4, 1, 2, 3]\n"
          ],
          "name": "stdout"
        }
      ]
    },
    {
      "cell_type": "code",
      "metadata": {
        "id": "EUA4sr0G-Fw7",
        "colab_type": "code",
        "colab": {
          "base_uri": "https://localhost:8080/",
          "height": 34
        },
        "outputId": "128d3af5-a09a-46bf-efc4-54006fb0e3d8"
      },
      "source": [
        "# 6.Index\n",
        "print(c.index(8))"
      ],
      "execution_count": null,
      "outputs": [
        {
          "output_type": "stream",
          "text": [
            "2\n"
          ],
          "name": "stdout"
        }
      ]
    },
    {
      "cell_type": "code",
      "metadata": {
        "id": "YDQs7vOj_MO6",
        "colab_type": "code",
        "colab": {
          "base_uri": "https://localhost:8080/",
          "height": 51
        },
        "outputId": "7c99df5e-c6ef-41e3-9fff-f31cd68c0908"
      },
      "source": [
        "# 7.Insert\n",
        "x=[\"hi\",\"how\"]\n",
        "print(x)\n",
        "x.insert(2,\" are you\")\n",
        "print(x)"
      ],
      "execution_count": null,
      "outputs": [
        {
          "output_type": "stream",
          "text": [
            "['hi', 'how']\n",
            "['hi', 'how', ' are you']\n"
          ],
          "name": "stdout"
        }
      ]
    },
    {
      "cell_type": "code",
      "metadata": {
        "id": "_tbNg1X8_8jg",
        "colab_type": "code",
        "colab": {
          "base_uri": "https://localhost:8080/",
          "height": 51
        },
        "outputId": "cd041284-8bb2-4d5e-d1ed-aca41fd77096"
      },
      "source": [
        "# 8.Pop\n",
        "x=[\"hi\",\"how\"]\n",
        "print(x)\n",
        "x.pop(0)\n",
        "print(x)\n"
      ],
      "execution_count": null,
      "outputs": [
        {
          "output_type": "stream",
          "text": [
            "['hi', 'how']\n",
            "['how']\n"
          ],
          "name": "stdout"
        }
      ]
    },
    {
      "cell_type": "code",
      "metadata": {
        "id": "pZr0xkkrAene",
        "colab_type": "code",
        "colab": {
          "base_uri": "https://localhost:8080/",
          "height": 51
        },
        "outputId": "6bffff01-d0f5-4256-e18f-f1fdc02f6930"
      },
      "source": [
        "# 9.Remove\n",
        "y=[\"hello\",\"bye\"]\n",
        "print(y)\n",
        "y.remove(\"bye\")\n",
        "print(y)\n"
      ],
      "execution_count": null,
      "outputs": [
        {
          "output_type": "stream",
          "text": [
            "['hello', 'bye']\n",
            "['hello']\n"
          ],
          "name": "stdout"
        }
      ]
    },
    {
      "cell_type": "code",
      "metadata": {
        "id": "xIrwVyGgBO9F",
        "colab_type": "code",
        "colab": {
          "base_uri": "https://localhost:8080/",
          "height": 51
        },
        "outputId": "e587bb38-49f4-4eb9-ccb6-582359b6cb5f"
      },
      "source": [
        "# 10.Reverse\n",
        "z=[\"p\",\"q\",\"r\",\"s\",\"t\"]\n",
        "print(z)\n",
        "z.reverse()\n",
        "print(z)"
      ],
      "execution_count": null,
      "outputs": [
        {
          "output_type": "stream",
          "text": [
            "['p', 'q', 'r', 's', 't']\n",
            "['t', 's', 'r', 'q', 'p']\n"
          ],
          "name": "stdout"
        }
      ]
    },
    {
      "cell_type": "code",
      "metadata": {
        "id": "OhBFad_0B9FR",
        "colab_type": "code",
        "colab": {
          "base_uri": "https://localhost:8080/",
          "height": 34
        },
        "outputId": "d2101fa1-e4af-4bec-ac08-4a0d0aa3e8fb"
      },
      "source": [
        "# 11.sort\n",
        "y=[22,545,67,43,]\n",
        "y.sort()\n",
        "print(y)"
      ],
      "execution_count": null,
      "outputs": [
        {
          "output_type": "stream",
          "text": [
            "[22, 43, 67, 545]\n"
          ],
          "name": "stdout"
        }
      ]
    },
    {
      "cell_type": "markdown",
      "metadata": {
        "id": "EujsvxAOC3WC",
        "colab_type": "text"
      },
      "source": [
        "**Dictionary**\n",
        "\n"
      ]
    },
    {
      "cell_type": "code",
      "metadata": {
        "id": "TfEH9npGDIiL",
        "colab_type": "code",
        "colab": {
          "base_uri": "https://localhost:8080/",
          "height": 35
        },
        "outputId": "39b00ed3-201e-437a-aec1-be3b32840aa3"
      },
      "source": [
        "dit ={\"Name\":\"Pujitha\",\"Age\":\"16\",\"Phone no\":12345}\n",
        "dit\n",
        "dit[\"Name\"]"
      ],
      "execution_count": null,
      "outputs": [
        {
          "output_type": "execute_result",
          "data": {
            "application/vnd.google.colaboratory.intrinsic+json": {
              "type": "string"
            },
            "text/plain": [
              "'Pujitha'"
            ]
          },
          "metadata": {
            "tags": []
          },
          "execution_count": 64
        }
      ]
    },
    {
      "cell_type": "code",
      "metadata": {
        "id": "_PXNdP7NFgXm",
        "colab_type": "code",
        "colab": {
          "base_uri": "https://localhost:8080/",
          "height": 34
        },
        "outputId": "bd93848a-c2a3-4606-f1f7-76749a7aa3cf"
      },
      "source": [
        "dit[\"School\"]=\"Laurel\"\n",
        "dit"
      ],
      "execution_count": null,
      "outputs": [
        {
          "output_type": "execute_result",
          "data": {
            "text/plain": [
              "{'Age': '16', 'Name': 'Pujitha', 'Phone no': 12345, 'School': 'Laurel'}"
            ]
          },
          "metadata": {
            "tags": []
          },
          "execution_count": 65
        }
      ]
    },
    {
      "cell_type": "markdown",
      "metadata": {
        "id": "OLEwXKalFw4E",
        "colab_type": "text"
      },
      "source": [
        "**Sets**"
      ]
    },
    {
      "cell_type": "code",
      "metadata": {
        "id": "4Kz5C7VuIEMI",
        "colab_type": "code",
        "colab": {
          "base_uri": "https://localhost:8080/",
          "height": 34
        },
        "outputId": "7ba7c3fc-87f8-48cf-ddce-82cde8cfa9ed"
      },
      "source": [
        "st ={\"Data\",\"structure\",9,8,7,6,}\n",
        "print(st)"
      ],
      "execution_count": null,
      "outputs": [
        {
          "output_type": "stream",
          "text": [
            "{6, 7, 8, 9, 'structure', 'Data'}\n"
          ],
          "name": "stdout"
        }
      ]
    },
    {
      "cell_type": "code",
      "metadata": {
        "id": "1bfEdHLmIdf1",
        "colab_type": "code",
        "colab": {
          "base_uri": "https://localhost:8080/",
          "height": 34
        },
        "outputId": "2f0983bc-a397-4200-b1c0-db787b2ee457"
      },
      "source": [
        "#Issubset\n",
        "st1={\"Data\",\"structure\"}\n",
        "st1.issubset(st)"
      ],
      "execution_count": null,
      "outputs": [
        {
          "output_type": "execute_result",
          "data": {
            "text/plain": [
              "True"
            ]
          },
          "metadata": {
            "tags": []
          },
          "execution_count": 71
        }
      ]
    },
    {
      "cell_type": "code",
      "metadata": {
        "id": "DhDtTjPSJ7g0",
        "colab_type": "code",
        "colab": {
          "base_uri": "https://localhost:8080/",
          "height": 51
        },
        "outputId": "f0cf3a1f-5508-4c0a-fda1-3b9a3f7157d1"
      },
      "source": [
        "#Issuperset\n",
        "print(st.issuperset(st1))\n",
        "print(st1.issuperset(st))"
      ],
      "execution_count": null,
      "outputs": [
        {
          "output_type": "stream",
          "text": [
            "True\n",
            "False\n"
          ],
          "name": "stdout"
        }
      ]
    },
    {
      "cell_type": "code",
      "metadata": {
        "id": "lXyQpzTTKpdb",
        "colab_type": "code",
        "colab": {
          "base_uri": "https://localhost:8080/",
          "height": 51
        },
        "outputId": "3cc17419-0410-4351-ad54-91f1f4e8bb13"
      },
      "source": [
        "#Difference\n",
        "print(st.difference(st1))\n",
        "print(st1.difference(st))"
      ],
      "execution_count": null,
      "outputs": [
        {
          "output_type": "stream",
          "text": [
            "{8, 9, 6, 7}\n",
            "set()\n"
          ],
          "name": "stdout"
        }
      ]
    },
    {
      "cell_type": "code",
      "metadata": {
        "id": "GV4wsctxMZ0u",
        "colab_type": "code",
        "colab": {
          "base_uri": "https://localhost:8080/",
          "height": 34
        },
        "outputId": "95fff623-b7c4-4a39-efa6-9240a5e559b9"
      },
      "source": [
        "#Difference_update\n",
        "i={\"Good\",\"night\",\"sweet\",\"dream\"}\n",
        "j={\"Good\",\"night\"}\n",
        "i.difference_update(j)\n",
        "print(i)"
      ],
      "execution_count": null,
      "outputs": [
        {
          "output_type": "stream",
          "text": [
            "{'dream', 'sweet'}\n"
          ],
          "name": "stdout"
        }
      ]
    },
    {
      "cell_type": "code",
      "metadata": {
        "id": "CPrYPH1bQpP9",
        "colab_type": "code",
        "colab": {
          "base_uri": "https://localhost:8080/",
          "height": 34
        },
        "outputId": "7450bde6-1a19-4789-8243-a5bdb8889e1d"
      },
      "source": [
        "#Discard\n",
        "i.discard(\"sweet\")\n",
        "print(i)"
      ],
      "execution_count": null,
      "outputs": [
        {
          "output_type": "stream",
          "text": [
            "{'dream'}\n"
          ],
          "name": "stdout"
        }
      ]
    },
    {
      "cell_type": "code",
      "metadata": {
        "id": "0nz1jhYMRo0D",
        "colab_type": "code",
        "colab": {
          "base_uri": "https://localhost:8080/",
          "height": 51
        },
        "outputId": "5a2cf8c0-4126-4089-d303-7472fade91b7"
      },
      "source": [
        "#Intersection\n",
        "print(i.intersection(j))\n",
        "print(i)"
      ],
      "execution_count": null,
      "outputs": [
        {
          "output_type": "stream",
          "text": [
            "set()\n",
            "{'dream'}\n"
          ],
          "name": "stdout"
        }
      ]
    },
    {
      "cell_type": "code",
      "metadata": {
        "id": "EKdB_mqqR-cH",
        "colab_type": "code",
        "colab": {
          "base_uri": "https://localhost:8080/",
          "height": 51
        },
        "outputId": "6b136bf7-eb22-4aa2-ee0a-7b6e88a75967"
      },
      "source": [
        "# Intersection_update\n",
        "u={\"what\",\"are\",\"thinking\"}\n",
        "v={\"are\",\"thinking\",\"about\",\"me\"}\n",
        "u.intersection_update(v)\n",
        "print (\"u:\",u)\n",
        "print (\"v:\",v)"
      ],
      "execution_count": null,
      "outputs": [
        {
          "output_type": "stream",
          "text": [
            "u: {'thinking', 'are'}\n",
            "v: {'about', 'thinking', 'are', 'me'}\n"
          ],
          "name": "stdout"
        }
      ]
    },
    {
      "cell_type": "code",
      "metadata": {
        "id": "2bxgnHzQFt0x",
        "colab_type": "code",
        "colab": {
          "base_uri": "https://localhost:8080/",
          "height": 34
        },
        "outputId": "4bd7463d-fdfe-47b4-d4b5-119bff46ddf8"
      },
      "source": [
        "# Isdisjoint\n",
        "u.isdisjoint(v)"
      ],
      "execution_count": null,
      "outputs": [
        {
          "output_type": "execute_result",
          "data": {
            "text/plain": [
              "False"
            ]
          },
          "metadata": {
            "tags": []
          },
          "execution_count": 6
        }
      ]
    },
    {
      "cell_type": "markdown",
      "metadata": {
        "id": "cx1XzpOsGmS8",
        "colab_type": "text"
      },
      "source": [
        "**tuple**"
      ]
    },
    {
      "cell_type": "code",
      "metadata": {
        "id": "3zK0DklPGqVq",
        "colab_type": "code",
        "colab": {
          "base_uri": "https://localhost:8080/",
          "height": 34
        },
        "outputId": "1dca6e69-0343-48af-b328-1a50cf8af855"
      },
      "source": [
        "tub =(\"ishana\",\"reaper\",\"@\",\"gmail\",\"com\")\n",
        "tub.count(\"@\")\n"
      ],
      "execution_count": null,
      "outputs": [
        {
          "output_type": "execute_result",
          "data": {
            "text/plain": [
              "1"
            ]
          },
          "metadata": {
            "tags": []
          },
          "execution_count": 9
        }
      ]
    },
    {
      "cell_type": "code",
      "metadata": {
        "id": "VwT6w-n3Htpu",
        "colab_type": "code",
        "colab": {
          "base_uri": "https://localhost:8080/",
          "height": 34
        },
        "outputId": "415f6075-4389-41f7-eac4-3293da156a0f"
      },
      "source": [
        "tub.index(\"reaper\")"
      ],
      "execution_count": null,
      "outputs": [
        {
          "output_type": "execute_result",
          "data": {
            "text/plain": [
              "1"
            ]
          },
          "metadata": {
            "tags": []
          },
          "execution_count": 11
        }
      ]
    },
    {
      "cell_type": "markdown",
      "metadata": {
        "id": "cl6svFBYH_OK",
        "colab_type": "text"
      },
      "source": [
        "**String**"
      ]
    },
    {
      "cell_type": "code",
      "metadata": {
        "id": "7OmIgoThIC57",
        "colab_type": "code",
        "colab": {
          "base_uri": "https://localhost:8080/",
          "height": 51
        },
        "outputId": "bfb3078c-e066-4846-c1ee-f7a0de280cbb"
      },
      "source": [
        "str =\"I brought\"\n",
        "print (str)\n",
        "str1=\"An Iphone\"\n",
        "print (str1)"
      ],
      "execution_count": null,
      "outputs": [
        {
          "output_type": "stream",
          "text": [
            "I brought\n",
            "An Iphone\n"
          ],
          "name": "stdout"
        }
      ]
    }
  ]
}